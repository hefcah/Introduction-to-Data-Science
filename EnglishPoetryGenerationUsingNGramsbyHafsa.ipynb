{
 "cells": [
  {
   "cell_type": "code",
   "execution_count": 1,
   "id": "562c747f",
   "metadata": {},
   "outputs": [
    {
     "name": "stderr",
     "output_type": "stream",
     "text": [
      "[nltk_data] Downloading package punkt to\n",
      "[nltk_data]     C:\\Users\\ma007\\AppData\\Roaming\\nltk_data...\n",
      "[nltk_data]   Package punkt is already up-to-date!\n"
     ]
    },
    {
     "data": {
      "text/plain": [
       "True"
      ]
     },
     "execution_count": 1,
     "metadata": {},
     "output_type": "execute_result"
    }
   ],
   "source": [
    "import nltk\n",
    "from nltk.util import ngrams\n",
    "from nltk import FreqDist\n",
    "from nltk.probability import FreqDist\n",
    "from nltk.corpus import shakespeare, words\n",
    "from nltk.corpus import stopwords\n",
    "from nltk.tokenize import word_tokenize\n",
    "from nltk.tokenize import word_tokenize, sent_tokenize\n",
    "from nltk.probability import FreqDist\n",
    "from nltk.stem import PorterStemmer, WordNetLemmatizer\n",
    "from nltk.tag import pos_tag\n",
    "from nltk.chunk import ne_chunk\n",
    "from nltk.sentiment import SentimentIntensityAnalyzer\n",
    "from nltk.sentiment.util import mark_negation\n",
    "from nltk.translate.bleu_score import sentence_bleu\n",
    "import random\n",
    "nltk.download(\"punkt\")\n",
    "nltk.download(\"stopwords\")\n",
    "nltk.download(\"maxent_ne_chunker\")\n",
    "nltk.download(\"vader_lexicon\")\n",
    "nltk.download(\"wordnet\")\n",
    "nltk.download(\"averaged_perceptron_tagger\")\n",
    "nltk.download(\"words\")\n",
    "import random\n",
    "from nltk import ngrams\n",
    "from nltk.probability import FreqDist\n",
    "from nltk.tokenize import word_tokenize\n",
    "\n",
    "file_path_shakespeare = \"C:\\\\Users\\\\ma007\\\\Downloads\\\\material\\\\Q1\\\\william shakespeare.txt\"\n",
    "file_path_angelou = \"C:\\\\Users\\\\ma007\\\\Downloads\\\\material\\\\Q1\\\\Robert Frost.txt\"\n",
    "\n",
    "with open(file_path_shakespeare, 'r', encoding='utf-8') as shakespeare_file:\n",
    "    shakespeare_words = word_tokenize(shakespeare_file.read())\n",
    "\n",
    "with open(file_path_angelou, 'r', encoding='utf-8') as angelou_file:\n",
    "    angelou_words = word_tokenize(angelou_file.read())\n",
    "\n",
    "def generate_ngram_model(words, n):\n",
    "    ngrams_list = list(ngrams(words, n))\n",
    "    return FreqDist(ngrams_list)\n",
    "\n",
    "def get_random_start_word(model):\n",
    "    starting_words = [word[0] for word in model]\n",
    "    return random.choice(starting_words)\n",
    "\n",
    "def generate_poetry_stanza(model, start_word, lines):\n",
    "    stanza = \"\"\n",
    "    for _ in range(lines):\n",
    "        verse_length = random.randint(7, 10)\n",
    "        current_word = start_word\n",
    "        verse = [current_word]\n",
    "\n",
    "        for _ in range(verse_length - 1):\n",
    "            next_word_candidates = [word[1] for word in model if word[0] == current_word]\n",
    "            \n",
    "            if next_word_candidates:\n",
    "                current_word = random.choice(next_word_candidates)\n",
    "                verse.append(current_word)\n",
    "            else:\n",
    "                break\n",
    "        \n",
    "        stanza += \" \".join(verse) + \"\\n\"\n",
    "    \n",
    "    return stanza + \"\\n\"\n",
    "\n",
    "while True:\n",
    "    #user input\n",
    "    user_choice = input(\"Enter the poet style (1 for William Shakespeare, 2 for Maya Angelou, or 'exit' to quit): \")\n",
    "\n",
    "    if user_choice.lower() == 'exit':\n",
    "        print(\"I hope u award me good marks Huzaifa Bhai.Thank u so much :))\")\n",
    "        break\n",
    "\n",
    "    if user_choice == '1':\n",
    "        poet_name = \"Shakespeare\"\n",
    "        poet_words = shakespeare_words\n",
    "        poet_bigram_model = generate_ngram_model(poet_words, 2)\n",
    "    elif user_choice == '2':\n",
    "        poet_name = \"Maya Angelou\"\n",
    "        poet_words = angelou_words\n",
    "        poet_bigram_model = generate_ngram_model(poet_words, 2)\n",
    "    else:\n",
    "        print(\"Invalid choice. Please enter 1 for William Shakespeare, 2 for Maya Angelou, or 'exit' to quit.\")\n",
    "        continue\n",
    "\n",
    "    # Generating and printing three stanzas in the chosen poet's style\n",
    "    for _ in range(3):\n",
    "        poet_start_word = get_random_start_word(poet_bigram_model)\n",
    "        poet_stanza = generate_poetry_stanza(poet_bigram_model, poet_start_word, 4)\n",
    "        print(poet_stanza)\n"
   ]
  },
  {
   "cell_type": "code",
   "execution_count": null,
   "id": "d09372c9",
   "metadata": {},
   "outputs": [],
   "source": []
  }
 ],
 "metadata": {
  "kernelspec": {
   "display_name": "Python 3 (ipykernel)",
   "language": "python",
   "name": "python3"
  },
  "language_info": {
   "codemirror_mode": {
    "name": "ipython",
    "version": 3
   },
   "file_extension": ".py",
   "mimetype": "text/x-python",
   "name": "python",
   "nbconvert_exporter": "python",
   "pygments_lexer": "ipython3",
   "version": "3.11.4"
  }
 },
 "nbformat": 4,
 "nbformat_minor": 5
}
