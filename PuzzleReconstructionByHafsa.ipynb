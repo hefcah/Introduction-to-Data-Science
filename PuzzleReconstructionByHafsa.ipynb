{
 "cells": [
  {
   "cell_type": "markdown",
   "id": "9427f8e8",
   "metadata": {},
   "source": [
    "# Puzzle Reconstruction"
   ]
  },
  {
   "cell_type": "markdown",
   "id": "7eb21ec0",
   "metadata": {},
   "source": [
    "#BMW"
   ]
  },
  {
   "cell_type": "code",
   "execution_count": 34,
   "id": "78089370",
   "metadata": {},
   "outputs": [
    {
     "name": "stdout",
     "output_type": "stream",
     "text": [
      "Requirement already satisfied: opencv-python in c:\\users\\ma007\\anaconda3\\lib\\site-packages (4.8.1.78)\n",
      "Requirement already satisfied: numpy>=1.21.2 in c:\\users\\ma007\\anaconda3\\lib\\site-packages (from opencv-python) (1.24.3)\n"
     ]
    }
   ],
   "source": [
    "!pip install opencv-python"
   ]
  },
  {
   "cell_type": "code",
   "execution_count": 12,
   "id": "14fd74d5",
   "metadata": {},
   "outputs": [],
   "source": [
    "import cv2\n",
    "import os\n",
    "import matplotlib.pyplot as plt\n",
    "import cv2\n",
    "import numpy as np"
   ]
  },
  {
   "cell_type": "code",
   "execution_count": 13,
   "id": "287c4823",
   "metadata": {},
   "outputs": [
    {
     "name": "stderr",
     "output_type": "stream",
     "text": [
      "C:\\Users\\ma007\\anaconda3\\Lib\\site-packages\\paramiko\\transport.py:219: CryptographyDeprecationWarning: Blowfish has been deprecated\n",
      "  \"class\": algorithms.Blowfish,\n"
     ]
    }
   ],
   "source": [
    "from skimage import io"
   ]
  },
  {
   "cell_type": "code",
   "execution_count": 14,
   "id": "97bc4df6",
   "metadata": {},
   "outputs": [],
   "source": [
    "# Create a blank white image as the background\n",
    "background = np.ones((996, 1500, 3), np.uint8) * 255"
   ]
  },
  {
   "cell_type": "code",
   "execution_count": 16,
   "id": "ebf3cce3",
   "metadata": {},
   "outputs": [],
   "source": [
    "# Load your sub-images \n",
    "sub_image1 = cv2.imread(\"C:\\\\Users\\\\ma007\\\\Downloads\\\\material\\\\Q2\\\\puzzle\\\\img1.png\")\n",
    "sub_image2 = cv2.imread(\"C:\\\\Users\\\\ma007\\\\Downloads\\\\material\\\\Q2\\\\puzzle\\\\img2.png\")\n",
    "sub_image3 = cv2.imread(\"C:\\\\Users\\\\ma007\\\\Downloads\\\\material\\\\Q2\\\\puzzle\\\\img3.png\")\n",
    "sub_image4 = cv2.imread(\"C:\\\\Users\\\\ma007\\\\Downloads\\\\material\\\\Q2\\\\puzzle\\\\img4.png\")\n",
    "sub_image5 = cv2.imread(\"C:\\\\Users\\\\ma007\\\\Downloads\\\\material\\\\Q2\\\\puzzle\\\\img5.png\")\n",
    "sub_image6 = cv2.imread(\"C:\\\\Users\\\\ma007\\\\Downloads\\\\material\\\\Q2\\\\puzzle\\\\img6.png\")\n",
    "sub_image7 = cv2.imread(\"C:\\\\Users\\\\ma007\\\\Downloads\\\\material\\\\Q2\\\\puzzle\\\\img7.png\")\n",
    "sub_image8 = cv2.imread(\"C:\\\\Users\\\\ma007\\\\Downloads\\\\material\\\\Q2\\\\puzzle\\\\img8.png\")\n",
    "sub_image9 = cv2.imread(\"C:\\\\Users\\\\ma007\\\\Downloads\\\\material\\\\Q2\\\\puzzle\\\\img9.png\")\n",
    "sub_image10 = cv2.imread(\"C:\\\\Users\\\\ma007\\\\Downloads\\\\material\\\\Q2\\\\puzzle\\\\img10.png\")\n",
    "sub_image11 = cv2.imread(\"C:\\\\Users\\\\ma007\\\\Downloads\\\\material\\\\Q2\\\\puzzle\\\\img11.png\")\n",
    "sub_image12= cv2.imread(\"C:\\\\Users\\\\ma007\\\\Downloads\\\\material\\\\Q2\\\\puzzle\\\\img12.png\")\n",
    "sub_image13= cv2.imread(\"C:\\\\Users\\\\ma007\\\\Downloads\\\\material\\\\Q2\\\\puzzle\\\\img13.png\")\n",
    "sub_image14= cv2.imread(\"C:\\\\Users\\\\ma007\\\\Downloads\\\\material\\\\Q2\\\\puzzle\\\\img14.png\")\n",
    "sub_image15= cv2.imread(\"C:\\\\Users\\\\ma007\\\\Downloads\\\\material\\\\Q2\\\\puzzle\\\\img15.png\")\n",
    "sub_image16= cv2.imread(\"C:\\\\Users\\\\ma007\\\\Downloads\\\\material\\\\Q2\\\\puzzle\\\\img16.png\")\n",
    "sub_image17= cv2.imread(\"C:\\\\Users\\\\ma007\\\\Downloads\\\\material\\\\Q2\\\\puzzle\\\\img17.png\")\n",
    "sub_image18 = cv2.imread(\"C:\\\\Users\\\\ma007\\\\Downloads\\\\material\\\\Q2\\\\puzzle\\\\img18.png\")"
   ]
  },
  {
   "cell_type": "code",
   "execution_count": 17,
   "id": "6b9ba465",
   "metadata": {},
   "outputs": [],
   "source": [
    "# Define the position where you want to place the image (2nd row, 2nd column)\n",
    "row, col = 2, 2"
   ]
  },
  {
   "cell_type": "code",
   "execution_count": 18,
   "id": "d2c15f9b",
   "metadata": {},
   "outputs": [],
   "source": [
    "# Calculate the position in pixels\n",
    "x1 = (col - 1) * sub_image1.shape[1]\n",
    "x2 = x1 + sub_image1.shape[1]\n",
    "y1 = (row - 1) * sub_image1.shape[0]\n",
    "y2 = y1 + sub_image1.shape[0]"
   ]
  },
  {
   "cell_type": "code",
   "execution_count": 19,
   "id": "3dc4c34b",
   "metadata": {},
   "outputs": [],
   "source": [
    "# Place the sub-image onto the background\n",
    "background[y1:y2, x1:x2] = sub_image1  # Replace with the sub-image you want to place\n"
   ]
  },
  {
   "cell_type": "code",
   "execution_count": 20,
   "id": "77ba3bf0",
   "metadata": {},
   "outputs": [
    {
     "data": {
      "text/plain": [
       "True"
      ]
     },
     "execution_count": 20,
     "metadata": {},
     "output_type": "execute_result"
    }
   ],
   "source": [
    "# Save the complete image\n",
    "cv2.imwrite('complete_image.jpg', background)"
   ]
  },
  {
   "cell_type": "code",
   "execution_count": 21,
   "id": "a8b5b801",
   "metadata": {},
   "outputs": [],
   "source": [
    "# Display the complete image\n",
    "cv2.imshow('Complete Image', background)\n",
    "cv2.waitKey(0)\n",
    "cv2.destroyAllWindows()\n"
   ]
  },
  {
   "cell_type": "code",
   "execution_count": 22,
   "id": "5aed219e",
   "metadata": {},
   "outputs": [],
   "source": [
    "\n",
    "# Rotating image 5 \n",
    "sub_image5_rotated = cv2.rotate(sub_image5, cv2.ROTATE_90_CLOCKWISE)\n",
    "\n",
    "# position to be placed\n",
    "row, col1, col2 = 2, 2, 3\n",
    "\n",
    "x1 = (col1 - 1) * sub_image1.shape[1]\n",
    "x2 = x1 + sub_image1.shape[1]\n",
    "y1 = (row - 1) * sub_image1.shape[0]\n",
    "y2 = y1 + sub_image1.shape[0]\n",
    "\n",
    "x1_rotated = (col2 - 1) * sub_image1.shape[1]\n",
    "x2_rotated = x1_rotated + sub_image5_rotated.shape[1]\n",
    "y1_rotated = (row - 1) * sub_image5_rotated.shape[0]\n",
    "y2_rotated = y1_rotated + sub_image5_rotated.shape[0]\n",
    "\n",
    "\n",
    "background[y1:y2, x1:x2] = sub_image1\n",
    "background[y1_rotated:y2_rotated, x1_rotated:x2_rotated] = sub_image5_rotated\n",
    "\n",
    "# Save the complete image\n",
    "cv2.imwrite('complete_image.jpg', background)\n",
    "\n",
    "# Display the complete image\n",
    "cv2.imshow('Complete Image', background)\n",
    "cv2.waitKey(0)\n",
    "cv2.destroyAllWindows()"
   ]
  },
  {
   "cell_type": "code",
   "execution_count": 23,
   "id": "d2575aef",
   "metadata": {},
   "outputs": [],
   "source": [
    "\n",
    "# Resizing image 18 to match the dimensions of image 5\n",
    "sub_image18_resized = cv2.resize(sub_image18, (sub_image5.shape[1], sub_image5.shape[0]))\n",
    "\n",
    "sub_image5_rotated = cv2.rotate(sub_image5, cv2.ROTATE_90_CLOCKWISE)\n",
    "\n",
    "row, col1, col2, col3 = 2, 2, 3, 4\n",
    "\n",
    "x1 = (col1 - 1) * sub_image1.shape[1]\n",
    "x2 = x1 + sub_image1.shape[1]\n",
    "y1 = (row - 1) * sub_image1.shape[0]\n",
    "y2 = y1 + sub_image1.shape[0]\n",
    "\n",
    "x1_rotated = (col2 - 1) * sub_image1.shape[1]\n",
    "x2_rotated = x1_rotated + sub_image5_rotated.shape[1]\n",
    "y1_rotated = (row - 1) * sub_image5_rotated.shape[0]\n",
    "y2_rotated = y1_rotated + sub_image5_rotated.shape[0]\n",
    "\n",
    "x1_resized = (col3 - 1) * sub_image18_resized.shape[1]\n",
    "x2_resized = x1_resized + sub_image18_resized.shape[1]\n",
    "y1_resized = (row - 1) * sub_image18_resized.shape[0]\n",
    "y2_resized = y1_resized + sub_image18_resized.shape[0]\n",
    "\n",
    "background[y1:y2, x1:x2] = sub_image1\n",
    "background[y1_rotated:y2_rotated, x1_rotated:x2_rotated] = sub_image5_rotated\n",
    "background[y1_resized:y2_resized, x1_resized:x2_resized] = sub_image18_resized\n",
    "\n",
    "# Save the complete image\n",
    "cv2.imwrite('complete_image.jpg', background)\n",
    "\n",
    "# Display the complete image\n",
    "cv2.imshow('Complete Image', background)\n",
    "cv2.waitKey(0)\n",
    "cv2.destroyAllWindows()"
   ]
  },
  {
   "cell_type": "markdown",
   "id": "7ae4a01e",
   "metadata": {},
   "source": [
    "# Clock"
   ]
  },
  {
   "cell_type": "code",
   "execution_count": 24,
   "id": "106ff1d8",
   "metadata": {},
   "outputs": [],
   "source": [
    "# Create a blank white image as the background\n",
    "background02 = np.ones((996, 1500, 3), np.uint8) * 255"
   ]
  },
  {
   "cell_type": "code",
   "execution_count": 25,
   "id": "80ea4c0f",
   "metadata": {},
   "outputs": [],
   "source": [
    "\n",
    "# Calculating the position to place image 14 above the center\n",
    "center_x = background02.shape[1] // 2\n",
    "center_y = background02.shape[0] // 2 - 50  \n",
    "\n",
    "# Calculating the top-left corner coordinates for placing image 14\n",
    "top_left_x = center_x - sub_image14.shape[1] // 2\n",
    "top_left_y = center_y - sub_image14.shape[0] // 2\n",
    "\n",
    "# Place image 14 on the background\n",
    "background02[top_left_y:top_left_y+sub_image14.shape[0], top_left_x:top_left_x+sub_image14.shape[1]] = sub_image14\n",
    "\n",
    "cv2.imshow(\"Result\", background02)\n",
    "cv2.waitKey(0)\n",
    "cv2.destroyAllWindows()\n"
   ]
  },
  {
   "cell_type": "code",
   "execution_count": 26,
   "id": "622496cc",
   "metadata": {},
   "outputs": [],
   "source": [
    "# Resizing image 8 to match the dimensions of image 14\n",
    "resized_image8 = cv2.resize(sub_image8, (sub_image14.shape[1], sub_image14.shape[0]))\n",
    "\n",
    "# placing below image 14\n",
    "top_left_x_image8 = center_x - resized_image8.shape[1] // 2\n",
    "top_left_y_image8 = top_left_y + sub_image14.shape[0]  # Place below image 14\n",
    "\n",
    "background02[top_left_y_image8:top_left_y_image8+resized_image8.shape[0], top_left_x_image8:top_left_x_image8+resized_image8.shape[1]] = resized_image8\n",
    "\n",
    "\n",
    "cv2.imshow(\"Updated Result\", background02)\n",
    "cv2.waitKey(0)\n",
    "cv2.destroyAllWindows()\n"
   ]
  },
  {
   "cell_type": "code",
   "execution_count": 27,
   "id": "939f055c",
   "metadata": {},
   "outputs": [],
   "source": [
    "# Resize image 8 to match the dimensions of image 14\n",
    "resized_image8 = cv2.resize(sub_image8, (sub_image14.shape[1], sub_image14.shape[0]))\n",
    "\n",
    "# Calculate the position to place resized image 8 below image 14\n",
    "top_left_x_image8 = center_x - resized_image8.shape[1] // 2\n",
    "top_left_y_image8 = top_left_y + sub_image14.shape[0]  # Place below image 14\n",
    "\n",
    "# Place resized image 8 on the background\n",
    "background02[top_left_y_image8:top_left_y_image8+resized_image8.shape[0], top_left_x_image8:top_left_x_image8+resized_image8.shape[1]] = resized_image8\n",
    "\n",
    "# Display the updated result\n",
    "cv2.imshow(\"Updated Result\", background02)\n",
    "cv2.waitKey(0)\n",
    "cv2.destroyAllWindows()\n"
   ]
  },
  {
   "cell_type": "code",
   "execution_count": 28,
   "id": "cd479d63",
   "metadata": {},
   "outputs": [],
   "source": [
    "# Fliping image 9 horizontally\n",
    "flipped_image9 = cv2.flip(sub_image9, 1)\n",
    "\n",
    "resized_flipped_image9 = cv2.resize(flipped_image9, (resized_image8.shape[1], resized_image8.shape[0]))\n",
    "\n",
    "top_left_x_flipped_image9 = top_left_x_image8 - resized_flipped_image9.shape[1]\n",
    "top_left_y_flipped_image9 = top_left_y_image8\n",
    "\n",
    "background02[top_left_y_flipped_image9:top_left_y_flipped_image9+resized_flipped_image9.shape[0], top_left_x_flipped_image9:top_left_x_flipped_image9+resized_flipped_image9.shape[1]] = resized_flipped_image9\n",
    "\n",
    "cv2.imshow(\"Updated Result\", background02)\n",
    "cv2.waitKey(0)\n",
    "cv2.destroyAllWindows()\n"
   ]
  },
  {
   "cell_type": "code",
   "execution_count": 29,
   "id": "05f770ab",
   "metadata": {},
   "outputs": [],
   "source": [
    "\n",
    "angle = 89  \n",
    "rows, cols, _ = sub_image17.shape\n",
    "rotation_matrix = cv2.getRotationMatrix2D((cols // 2, rows // 2), angle, 1)\n",
    "rotated_image17 = cv2.warpAffine(sub_image17, rotation_matrix, (cols, rows))\n",
    "\n",
    "#rotated image 17 below image 8\n",
    "top_left_x_rotated_image17 = top_left_x_image8\n",
    "top_left_y_rotated_image17 = top_left_y_image8 + resized_image8.shape[0]\n",
    "\n",
    "background02[top_left_y_rotated_image17:top_left_y_rotated_image17+rotated_image17.shape[0], top_left_x_rotated_image17:top_left_x_rotated_image17+rotated_image17.shape[1]] = rotated_image17\n",
    "\n",
    "# Display the final result\n",
    "cv2.imshow(\"Final Result\", background02)\n",
    "cv2.waitKey(0)\n",
    "cv2.destroyAllWindows()\n"
   ]
  },
  {
   "cell_type": "code",
   "execution_count": 32,
   "id": "e5ccc3ce",
   "metadata": {},
   "outputs": [],
   "source": [
    "\n",
    "# Resize only image 17 according to image 8\n",
    "resized_image17 = cv2.resize(rotated_image17, (resized_image8.shape[1], resized_image8.shape[0]))\n",
    "\n",
    "# Calculate the position to place resized image 17 below image 8\n",
    "top_left_x_resized_image17 = top_left_x_image8\n",
    "top_left_y_resized_image17 = top_left_y_image8 + resized_image8.shape[0]\n",
    "\n",
    "# Place resized image 17 on the background below image 8\n",
    "background02[top_left_y_resized_image17:top_left_y_resized_image17+resized_image17.shape[0], top_left_x_resized_image17:top_left_x_resized_image17+resized_image17.shape[1]] = resized_image17\n",
    "\n",
    "# Display the final result\n",
    "cv2.imshow(\"Final Result\", background02)\n",
    "cv2.waitKey(0)\n",
    "cv2.destroyAllWindows()\n"
   ]
  },
  {
   "cell_type": "code",
   "execution_count": 33,
   "id": "c675c6c1",
   "metadata": {},
   "outputs": [],
   "source": [
    "\n",
    "angle = 85  # Adjust the angle as needed\n",
    "rows, cols, _ = sub_image4.shape\n",
    "rotation_matrix = cv2.getRotationMatrix2D((cols // 2, rows // 2), angle, 1)\n",
    "rotated_image4 = cv2.warpAffine(sub_image4, rotation_matrix, (cols, rows))\n",
    "\n",
    "# Calculate the position to place rotated image 4 to the left of image 14\n",
    "left_top_x_rotated_image4 = top_left_x - rotated_image4.shape[1]\n",
    "left_top_y_rotated_image4 = top_left_y\n",
    "\n",
    "# Place rotated image 4 on the background to the left of image 14\n",
    "background02[left_top_y_rotated_image4:left_top_y_rotated_image4+rotated_image4.shape[0], left_top_x_rotated_image4:left_top_x_rotated_image4+rotated_image4.shape[1]] = rotated_image4\n",
    "\n",
    "# Display the final result\n",
    "cv2.imshow(\"Final Result\", background02)\n",
    "cv2.waitKey(0)\n",
    "cv2.destroyAllWindows()\n"
   ]
  },
  {
   "cell_type": "code",
   "execution_count": null,
   "id": "550a44b1",
   "metadata": {},
   "outputs": [],
   "source": []
  },
  {
   "cell_type": "code",
   "execution_count": null,
   "id": "3126a818",
   "metadata": {},
   "outputs": [],
   "source": []
  }
 ],
 "metadata": {
  "kernelspec": {
   "display_name": "Python 3 (ipykernel)",
   "language": "python",
   "name": "python3"
  },
  "language_info": {
   "codemirror_mode": {
    "name": "ipython",
    "version": 3
   },
   "file_extension": ".py",
   "mimetype": "text/x-python",
   "name": "python",
   "nbconvert_exporter": "python",
   "pygments_lexer": "ipython3",
   "version": "3.11.4"
  }
 },
 "nbformat": 4,
 "nbformat_minor": 5
}
