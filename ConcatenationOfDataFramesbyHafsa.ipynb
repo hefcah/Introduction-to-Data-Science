{
 "cells": [
  {
   "cell_type": "code",
   "execution_count": null,
   "id": "14d371b2",
   "metadata": {},
   "outputs": [],
   "source": [
    "import pandas as pd\n",
    "data1 = {'index': [1, 2, 3],\n",
    "         'day': ['Monday', 'Monday', 'Monday'],\n",
    "         'room': ['C-301', 'C-301', 'C-301'],\n",
    "         'time': ['08:30-10:15 AM', '11:30 AM - 12:15 PM', '1:00 PM - 2:20 PM'],\n",
    "         'course': ['Func Eng', 'PF', 'AP'],\n",
    "         'type': ['Theory', 'Theory', 'Theory']}\n",
    "\n",
    "data2 = {'index': [4, 5, 6],\n",
    "         'day': ['Monday', 'Monday', 'Monday'],\n",
    "         'room': ['C-301', 'C-301', 'C-Margalla 1'],\n",
    "         'time': ['2:30 PM - 3:50 PM', '5:00 PM - 6:40 PM', '06:45 PM - 08-05'],\n",
    "         'course': ['Calculus', 'Adv OS', 'PF Lab'],\n",
    "         'type': ['Theory', 'Theory', 'Lab']}\n",
    "\n",
    "\n",
    "df1 = pd.DataFrame(data1)\n",
    "df2 = pd.DataFrame(data2)\n",
    "\n",
    "\n",
    "# Concatenate the DataFrames along the rows (axis=0)\n",
    "result_df = pd.concat([df1, df2], ignore_index=True)\n",
    "\n",
    "# Display the result DataFrame\n",
    "print(result_df)"
   ]
  }
 ],
 "metadata": {
  "kernelspec": {
   "display_name": "Python 3 (ipykernel)",
   "language": "python",
   "name": "python3"
  },
  "language_info": {
   "codemirror_mode": {
    "name": "ipython",
    "version": 3
   },
   "file_extension": ".py",
   "mimetype": "text/x-python",
   "name": "python",
   "nbconvert_exporter": "python",
   "pygments_lexer": "ipython3",
   "version": "3.11.4"
  }
 },
 "nbformat": 4,
 "nbformat_minor": 5
}
